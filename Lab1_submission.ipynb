{
 "cells": [
  {
   "cell_type": "markdown",
   "id": "5151d084-92e2-46a2-b40a-10bbd0e8d1a2",
   "metadata": {},
   "source": [
    "## Replace this text with your name"
   ]
  },
  {
   "cell_type": "code",
   "execution_count": null,
   "id": "51e29a43",
   "metadata": {},
   "outputs": [],
   "source": [
    "LEON HUYNH "
   ]
  },
  {
   "cell_type": "markdown",
   "id": "0d7d0ecb-9aef-4ef0-bb37-27079b171415",
   "metadata": {},
   "source": [
    "In the cell below, include your ``import`` statements"
   ]
  },
  {
   "cell_type": "code",
   "execution_count": null,
   "id": "9f825be8-75ad-41d0-8ee0-9be55b9a1a88",
   "metadata": {},
   "outputs": [],
   "source": [
    "import math"
   ]
  },
  {
   "cell_type": "markdown",
   "id": "7fe0fe59-7c5d-4af6-9387-da5770e03df6",
   "metadata": {},
   "source": [
    "<b>Exercise:</b> Create a function `pyramid(N)` that returns the Nth pyramid number.  In the second input cell below, test your function by printing the values of `pyramid(1)`, `pyramid(2)`, `pyramid(3)` and `pyramid(10)`."
   ]
  },
  {
   "cell_type": "code",
   "execution_count": null,
   "id": "ee558117-627d-46bd-b94d-dc17a74e3d01",
   "metadata": {},
   "outputs": [],
   "source": [
    "def pyramid(N):\n",
    "    Nth_pyramid = 0\n",
    "    for i in range(1, N + 1):\n",
    "        Nth_pyramid +=i ** 2  \n",
    "    return Nth_pyramid"
   ]
  },
  {
   "cell_type": "code",
   "execution_count": null,
   "id": "8b7c2fb3-d641-4dcf-9923-81519fc5c7f5",
   "metadata": {},
   "outputs": [],
   "source": [
    "print(pyramid(10))"
   ]
  },
  {
   "cell_type": "markdown",
   "id": "e197f6a9-8f01-4cc6-a43c-454ca89459db",
   "metadata": {},
   "source": [
    "<b>Exercise:</b>  Consider the integral\n",
    "\n",
    "$\\displaystyle \\int_0^2 \\sqrt{4 - x^2} dx = \\pi$\n",
    "\n",
    "We can calculate the integral using the rectangle rule doing the following:\n",
    "- Create a function, $c (x) = \\sqrt{4 - x^2}$.  Your function should accept x as the input and output the value $\\sqrt{4 - x^2}$.\n",
    "- Perform the rectangle rule by breaking the interval into N rectangles, \n",
    "\n",
    "$\\displaystyle \\sum_{i = 0}^{N-1} c ( i \\Delta x ) \\Delta x, \\qquad$ where $\\displaystyle\\qquad \\Delta x = \\frac{2}{N}$\n",
    "\n",
    "This is the summation of the function c, evaluated at input i times $\\Delta x$, multiplied by $\\Delta x$.\n",
    "\n",
    "- Create a function (give it a name, more complicated than just a random letter or letters) whose input is N and output is the sum above. \n",
    "- Call your funciton with N = 10, 100, 1000.\n",
    "- Finally, call your function with N = 10000.  Increase N by a factor of 10 (i.e., add another zero), until it takes your computer a few seconds to calculate to see how close to $\\pi$ you get.  (Do not add more zeros, unless you want to wait up to a minute or two for it to finish calculating.)"
   ]
  },
  {
   "cell_type": "code",
   "execution_count": null,
   "id": "5679f518-48f0-42ea-b111-eba197eb1b46",
   "metadata": {},
   "outputs": [],
   "source": [
    "def evaluate_integral(x):\n",
    "    integral = math.sqrt(4 - x**2)\n",
    "    return integral\n",
    "\n",
    "def calculate_pi(N):\n",
    "    \n",
    "    delta_x = 2 / N \n",
    "    summation = 0 \n",
    "    \n",
    "    for i in range(N):\n",
    "        x_i = i * delta_x  \n",
    "        summation += evaluate_integral(x_i) * delta_x  \n",
    "    print(\"summation:\", summation)\n",
    "    return summation"
   ]
  },
  {
   "cell_type": "code",
   "execution_count": null,
   "id": "ef98c3fd-0e73-45e6-84f9-aa018004f026",
   "metadata": {},
   "outputs": [],
   "source": [
    "for N in [10, 100, 1000, 10000, 100000, 1000000, 10000000]:\n",
    "    pi_approximation = calculate_pi(N)"
   ]
  },
  {
   "cell_type": "markdown",
   "id": "2366aa8a-5c0d-48ec-b287-c45334fb12f7",
   "metadata": {},
   "source": [
    "Confirm that this all works by using ``Kernel > Restart Kernel and Run All Cells...``"
   ]
  },
  {
   "cell_type": "markdown",
   "id": "c326855e-491d-4d95-a6e0-e94b673b3c40",
   "metadata": {},
   "source": [
    "When you are happy with your results, you will submit by uploading this file on Github."
   ]
  }
 ],
 "metadata": {
  "kernelspec": {
   "display_name": "Python [conda env:base] *",
   "language": "python",
   "name": "conda-base-py"
  },
  "language_info": {
   "codemirror_mode": {
    "name": "ipython",
    "version": 3
   },
   "file_extension": ".py",
   "mimetype": "text/x-python",
   "name": "python",
   "nbconvert_exporter": "python",
   "pygments_lexer": "ipython3",
   "version": "3.12.7"
  }
 },
 "nbformat": 4,
 "nbformat_minor": 5
}
