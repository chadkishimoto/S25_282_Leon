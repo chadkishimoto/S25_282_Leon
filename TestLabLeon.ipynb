{
 "cells": [
  {
   "cell_type": "markdown",
   "id": "e614aaf5-1d84-4454-a178-63b9d1b5d959",
   "metadata": {},
   "source": [
    "## Leon Huynh "
   ]
  },
  {
   "cell_type": "markdown",
   "id": "0d7d0ecb-9aef-4ef0-bb37-27079b171415",
   "metadata": {},
   "source": [
    "In the cell below, include your ``import`` statements"
   ]
  },
  {
   "cell_type": "code",
   "execution_count": null,
   "id": "30908a8c-dfe7-4abd-b4cd-5b6b28127f78",
   "metadata": {},
   "outputs": [],
   "source": [
    "import osimport numpy as np\n",
    "import matplotlib.pyplot as plt\n",
    "import os\n",
    "os.getcwd("
   ]
  },
  {
   "cell_type": "markdown",
   "id": "7fe0fe59-7c5d-4af6-9387-da5770e03df6",
   "metadata": {},
   "source": [
    "copy-and-paste your functions in the cell below"
   ]
  },
  {
   "cell_type": "code",
   "execution_count": null,
   "id": "ee558117-627d-46bd-b94d-dc17a74e3d01",
   "metadata": {},
   "outputs": [],
   "source": [
    "def plot_this_function(A,th):\n",
    "    return (A * th) * np.cos(th), (A * th) * np.sin(th)\n",
    "def make_plot(A):\n",
    "    th = np.linspace(0,30,1000)\n",
    "    x_axis = np.zeros(len(th))\n",
    "    y_axis = np.zeros(len(th))\n",
    "    \n",
    "    for i in range(len(x_axis)):\n",
    "        x_axis[i], y_axis[i] = plot_this_function(A, th[i])\n",
    "    plt.figure(figsize=(6,6))\n",
    "    plt.title(\"A = {}\".format(A))\n",
    "    plt.plot(x_axis,y_axis)\n",
    "    plt.ylim(-300,300)\n",
    "    plt.xlim(-300,300)\n",
    "    plt.xlabel(\"x\")\n",
    "    plt.ylabel(\"y\")\n",
    "    plt.show()"
   ]
  },
  {
   "cell_type": "markdown",
   "id": "e197f6a9-8f01-4cc6-a43c-454ca89459db",
   "metadata": {},
   "source": [
    "Use the single cell below to call your function **three** times, with three different inputs. One of which is negative."
   ]
  },
  {
   "cell_type": "code",
   "execution_count": null,
   "id": "5679f518-48f0-42ea-b111-eba197eb1b46",
   "metadata": {},
   "outputs": [],
   "source": [
    "make_plot(5)\n",
    "make_plot(1)"
   ]
  },
  {
   "cell_type": "markdown",
   "id": "2366aa8a-5c0d-48ec-b287-c45334fb12f7",
   "metadata": {},
   "source": [
    "Confirm that this all works by using ``Kernel > Restart Kernel and Run All Cells...``"
   ]
  },
  {
   "cell_type": "markdown",
   "id": "c326855e-491d-4d95-a6e0-e94b673b3c40",
   "metadata": {},
   "source": [
    "When you are happy with your results, you will submit by uploading this file on Github on your branch."
   ]
  }
 ],
 "metadata": {
  "kernelspec": {
   "display_name": "Python [conda env:base] *",
   "language": "python",
   "name": "conda-base-py"
  },
  "language_info": {
   "codemirror_mode": {
    "name": "ipython",
    "version": 3
   },
   "file_extension": ".py",
   "mimetype": "text/x-python",
   "name": "python",
   "nbconvert_exporter": "python",
   "pygments_lexer": "ipython3",
   "version": "3.12.7"
  }
 },
 "nbformat": 4,
 "nbformat_minor": 5
}
